{
 "cells": [
  {
   "cell_type": "code",
   "execution_count": 1,
   "id": "ef2d596d-d42a-4469-b863-d17f064d9230",
   "metadata": {},
   "outputs": [
    {
     "data": {
      "text/plain": [
       "{'licensekey': 'cadb........0aaa', 'software_license': {}}"
      ]
     },
     "execution_count": 1,
     "metadata": {},
     "output_type": "execute_result"
    }
   ],
   "source": [
    "from quantrocket.license import set_license\n",
    "set_license(\"cadba980-de2e-11ee-93e1-4b30e8840aaa\")"
   ]
  },
  {
   "cell_type": "code",
   "execution_count": 2,
   "id": "858360a5-ad6a-48a3-bc94-7f3c89a1a901",
   "metadata": {
    "tags": []
   },
   "outputs": [
    {
     "data": {
      "text/plain": [
       "{'status': 'successfully created quantrocket.v2.history.usstock-free-1d.sqlite'}"
      ]
     },
     "execution_count": 2,
     "metadata": {},
     "output_type": "execute_result"
    }
   ],
   "source": [
    "from quantrocket.history import create_usstock_db\n",
    "create_usstock_db(\"usstock-free-1d\", free=True)\n",
    "{'status': 'successfully created quantrocket.v2.history.usstock-free-1d.sqlite'}"
   ]
  },
  {
   "cell_type": "code",
   "execution_count": 3,
   "id": "d262ec21-9003-40e1-aba0-313089d7f2ad",
   "metadata": {
    "tags": []
   },
   "outputs": [
    {
     "data": {
      "text/plain": [
       "{'status': 'the historical data will be collected asynchronously'}"
      ]
     },
     "execution_count": 3,
     "metadata": {},
     "output_type": "execute_result"
    }
   ],
   "source": [
    "from quantrocket.history import collect_history\n",
    "collect_history(\"usstock-free-1d\")\n",
    "{'status': 'the historical data will be collected asynchronously'}"
   ]
  },
  {
   "cell_type": "code",
   "execution_count": 4,
   "id": "a22d8f99-bdc6-498b-8ef7-448c23b55851",
   "metadata": {
    "tags": []
   },
   "outputs": [],
   "source": [
    "from quantrocket.history import download_history_file\n",
    "download_history_file(\"usstock-free-1d\",\n",
    "                          start_date=\"2023-01-01\", #YYYY-MM-DD\n",
    "                          end_date=\"2023-12-31\",\n",
    "                          fields=[\"Close\"],\n",
    "                          sids=[\"FIBBG000B9XRY4\"], ##AAPL's sid\n",
    "                          filepath_or_buffer=\"apple.csv\"\n",
    "                     )"
   ]
  },
  {
   "cell_type": "code",
   "execution_count": 13,
   "id": "20bb0dc7-8c57-4a58-965a-6c2a811d1104",
   "metadata": {
    "tags": []
   },
   "outputs": [
    {
     "name": "stdout",
     "output_type": "stream",
     "text": [
      "2023-02-24 145.9311\n"
     ]
    }
   ],
   "source": [
    "import csv\n",
    "\n",
    "with open('apple.csv', newline='') as csvfile:\n",
    "    # Create a CSV reader object with a dictionary interface\n",
    "    csvreader = csv.DictReader(csvfile)\n",
    "\n",
    "    # Iterate over each row in the CSV file\n",
    "    for row in csvreader:\n",
    "        # Access data by column names (keys)\n",
    "        if(row['Date'] == '2023-02-24'):\n",
    "           print(row['Date'], row['Close'])\n"
   ]
  },
  {
   "cell_type": "code",
   "execution_count": null,
   "id": "fe3c644d-1f02-4625-adb4-509bff09662b",
   "metadata": {},
   "outputs": [],
   "source": [
    "date = input(\"Enter a date in the format(2023-MM-DD):\")\n",
    "res = date.split('-')\n",
    "\n",
    "\n"
   ]
  },
  {
   "cell_type": "code",
   "execution_count": 22,
   "id": "29bff918-13d4-4082-83b5-1598680b194b",
   "metadata": {
    "tags": []
   },
   "outputs": [
    {
     "name": "stdout",
     "output_type": "stream",
     "text": [
      "Previous Row: {'Sid': 'FIBBG000B9XRY4', 'Date': '2023-11-16', 'Close': '189.4682'}\n",
      "Previous Row: {'Sid': 'FIBBG000B9XRY4', 'Date': '2023-11-17', 'Close': '189.4483'}\n",
      "Current Row: {'Sid': 'FIBBG000B9XRY4', 'Date': '2023-11-20', 'Close': '191.206'}\n"
     ]
    }
   ],
   "source": [
    "import csv\n",
    "\n",
    "with open('apple.csv', newline='') as csvfile:\n",
    "    csvreader = csv.DictReader(csvfile)\n",
    "    \n",
    "    prev_row = None\n",
    "    prev_row1 = None\n",
    "   \n",
    "    for row in csvreader:\n",
    "        if row['Date'] == '2023-11-20':\n",
    "            if prev_row is not None and prev_row1 is not None:\n",
    "                print(\"Previous Row:\", prev_row1)\n",
    "                print(\"Previous Row:\", prev_row)\n",
    "                print(\"Current Row:\", row)\n",
    "        prev_row1 = prev_row\n",
    "        prev_row = row\n"
   ]
  },
  {
   "cell_type": "code",
   "execution_count": 25,
   "id": "42d52249-bc8b-4afd-abe5-43be633b9312",
   "metadata": {
    "tags": []
   },
   "outputs": [],
   "source": [
    "import csv\n",
    "\n",
    "with open('apple.csv', newline='') as csvfile:\n",
    "    csvreader = csv.DictReader(csvfile)\n",
    "    close = []\n",
    "    for row in csvreader:\n",
    "        close.append(float(row['Close']))\n",
    "   # print(close)\n"
   ]
  },
  {
   "cell_type": "code",
   "execution_count": 36,
   "id": "d343ecab-5846-4207-a5e5-432bd75801ae",
   "metadata": {
    "tags": []
   },
   "outputs": [],
   "source": [
    "r = []\n",
    "for i in range(1,len(close)):\n",
    "    R = (close[i]-close[i-1])/close[i-1]\n",
    "    r.append(R*100)\n",
    "#print(r)\n",
    "    "
   ]
  },
  {
   "cell_type": "code",
   "execution_count": 37,
   "id": "2e4fd573-dea7-4ed2-82c3-27e992d995f6",
   "metadata": {
    "tags": []
   },
   "outputs": [],
   "source": [
    "s = []\n",
    "for i in r:\n",
    "    if(i>=0.1):\n",
    "        s.append(1)\n",
    "    elif(i>-0.1 and i<0.1):\n",
    "        s.append(0)\n",
    "    else:\n",
    "        s.append(-1)\n",
    "#print(s)\n",
    "#print(len(s))"
   ]
  },
  {
   "cell_type": "code",
   "execution_count": 40,
   "id": "67cf92c9-a370-4ad4-aaac-d3703651f425",
   "metadata": {
    "tags": []
   },
   "outputs": [],
   "source": [
    "v = [0]\n",
    "for i in range(1,len(s)):\n",
    "    if(s[i-1] == 0 and s[i] == 1):\n",
    "        v.append(v[i-1]+1)\n",
    "    elif(s[i-1] == 0 and s[i] == -1 ):\n",
    "         v.append(v[i-1]-1)\n",
    "    else:\n",
    "         v.append(v[i-1])\n",
    "#print(v)"
   ]
  },
  {
   "cell_type": "code",
   "execution_count": 41,
   "id": "0c903a81-ada0-410c-ad84-001c413f7e50",
   "metadata": {
    "tags": []
   },
   "outputs": [
    {
     "ename": "AttributeError",
     "evalue": "'int' object has no attribute 'shift'",
     "output_type": "error",
     "traceback": [
      "\u001b[0;31m---------------------------------------------------------------------------\u001b[0m",
      "\u001b[0;31mAttributeError\u001b[0m                            Traceback (most recent call last)",
      "Input \u001b[0;32mIn [41]\u001b[0m, in \u001b[0;36m<cell line: 31>\u001b[0;34m()\u001b[0m\n\u001b[1;32m     28\u001b[0m         \u001b[38;5;28;01mreturn\u001b[39;00m row[\u001b[38;5;124m'\u001b[39m\u001b[38;5;124mV\u001b[39m\u001b[38;5;124m'\u001b[39m]\n\u001b[1;32m     30\u001b[0m df[\u001b[38;5;124m'\u001b[39m\u001b[38;5;124mV\u001b[39m\u001b[38;5;124m'\u001b[39m] \u001b[38;5;241m=\u001b[39m \u001b[38;5;241m0\u001b[39m  \u001b[38;5;66;03m# Initial portfolio value\u001b[39;00m\n\u001b[0;32m---> 31\u001b[0m df[\u001b[38;5;124m'\u001b[39m\u001b[38;5;124mV\u001b[39m\u001b[38;5;124m'\u001b[39m] \u001b[38;5;241m=\u001b[39m \u001b[43mdf\u001b[49m\u001b[38;5;241;43m.\u001b[39;49m\u001b[43mapply\u001b[49m\u001b[43m(\u001b[49m\u001b[43mcalculate_value_function\u001b[49m\u001b[43m,\u001b[49m\u001b[43m \u001b[49m\u001b[43maxis\u001b[49m\u001b[38;5;241;43m=\u001b[39;49m\u001b[38;5;241;43m1\u001b[39;49m\u001b[43m)\u001b[49m\n\u001b[1;32m     33\u001b[0m \u001b[38;5;66;03m# Step 5: Calculate transition distribution\u001b[39;00m\n\u001b[1;32m     34\u001b[0m transition_matrix \u001b[38;5;241m=\u001b[39m df\u001b[38;5;241m.\u001b[39mgroupby([\u001b[38;5;124m'\u001b[39m\u001b[38;5;124mState\u001b[39m\u001b[38;5;124m'\u001b[39m, \u001b[38;5;124m'\u001b[39m\u001b[38;5;124mState.shift(1)\u001b[39m\u001b[38;5;124m'\u001b[39m])\u001b[38;5;241m.\u001b[39msize()\u001b[38;5;241m.\u001b[39munstack()\n",
      "File \u001b[0;32m/opt/conda/lib/python3.9/site-packages/pandas/core/frame.py:8740\u001b[0m, in \u001b[0;36mDataFrame.apply\u001b[0;34m(self, func, axis, raw, result_type, args, **kwargs)\u001b[0m\n\u001b[1;32m   8729\u001b[0m \u001b[38;5;28;01mfrom\u001b[39;00m \u001b[38;5;21;01mpandas\u001b[39;00m\u001b[38;5;21;01m.\u001b[39;00m\u001b[38;5;21;01mcore\u001b[39;00m\u001b[38;5;21;01m.\u001b[39;00m\u001b[38;5;21;01mapply\u001b[39;00m \u001b[38;5;28;01mimport\u001b[39;00m frame_apply\n\u001b[1;32m   8731\u001b[0m op \u001b[38;5;241m=\u001b[39m frame_apply(\n\u001b[1;32m   8732\u001b[0m     \u001b[38;5;28mself\u001b[39m,\n\u001b[1;32m   8733\u001b[0m     func\u001b[38;5;241m=\u001b[39mfunc,\n\u001b[0;32m   (...)\u001b[0m\n\u001b[1;32m   8738\u001b[0m     kwargs\u001b[38;5;241m=\u001b[39mkwargs,\n\u001b[1;32m   8739\u001b[0m )\n\u001b[0;32m-> 8740\u001b[0m \u001b[38;5;28;01mreturn\u001b[39;00m \u001b[43mop\u001b[49m\u001b[38;5;241;43m.\u001b[39;49m\u001b[43mapply\u001b[49m\u001b[43m(\u001b[49m\u001b[43m)\u001b[49m\n",
      "File \u001b[0;32m/opt/conda/lib/python3.9/site-packages/pandas/core/apply.py:688\u001b[0m, in \u001b[0;36mFrameApply.apply\u001b[0;34m(self)\u001b[0m\n\u001b[1;32m    685\u001b[0m \u001b[38;5;28;01melif\u001b[39;00m \u001b[38;5;28mself\u001b[39m\u001b[38;5;241m.\u001b[39mraw:\n\u001b[1;32m    686\u001b[0m     \u001b[38;5;28;01mreturn\u001b[39;00m \u001b[38;5;28mself\u001b[39m\u001b[38;5;241m.\u001b[39mapply_raw()\n\u001b[0;32m--> 688\u001b[0m \u001b[38;5;28;01mreturn\u001b[39;00m \u001b[38;5;28;43mself\u001b[39;49m\u001b[38;5;241;43m.\u001b[39;49m\u001b[43mapply_standard\u001b[49m\u001b[43m(\u001b[49m\u001b[43m)\u001b[49m\n",
      "File \u001b[0;32m/opt/conda/lib/python3.9/site-packages/pandas/core/apply.py:812\u001b[0m, in \u001b[0;36mFrameApply.apply_standard\u001b[0;34m(self)\u001b[0m\n\u001b[1;32m    811\u001b[0m \u001b[38;5;28;01mdef\u001b[39;00m \u001b[38;5;21mapply_standard\u001b[39m(\u001b[38;5;28mself\u001b[39m):\n\u001b[0;32m--> 812\u001b[0m     results, res_index \u001b[38;5;241m=\u001b[39m \u001b[38;5;28;43mself\u001b[39;49m\u001b[38;5;241;43m.\u001b[39;49m\u001b[43mapply_series_generator\u001b[49m\u001b[43m(\u001b[49m\u001b[43m)\u001b[49m\n\u001b[1;32m    814\u001b[0m     \u001b[38;5;66;03m# wrap results\u001b[39;00m\n\u001b[1;32m    815\u001b[0m     \u001b[38;5;28;01mreturn\u001b[39;00m \u001b[38;5;28mself\u001b[39m\u001b[38;5;241m.\u001b[39mwrap_results(results, res_index)\n",
      "File \u001b[0;32m/opt/conda/lib/python3.9/site-packages/pandas/core/apply.py:828\u001b[0m, in \u001b[0;36mFrameApply.apply_series_generator\u001b[0;34m(self)\u001b[0m\n\u001b[1;32m    825\u001b[0m \u001b[38;5;28;01mwith\u001b[39;00m option_context(\u001b[38;5;124m\"\u001b[39m\u001b[38;5;124mmode.chained_assignment\u001b[39m\u001b[38;5;124m\"\u001b[39m, \u001b[38;5;28;01mNone\u001b[39;00m):\n\u001b[1;32m    826\u001b[0m     \u001b[38;5;28;01mfor\u001b[39;00m i, v \u001b[38;5;129;01min\u001b[39;00m \u001b[38;5;28menumerate\u001b[39m(series_gen):\n\u001b[1;32m    827\u001b[0m         \u001b[38;5;66;03m# ignore SettingWithCopy here in case the user mutates\u001b[39;00m\n\u001b[0;32m--> 828\u001b[0m         results[i] \u001b[38;5;241m=\u001b[39m \u001b[38;5;28;43mself\u001b[39;49m\u001b[38;5;241;43m.\u001b[39;49m\u001b[43mf\u001b[49m\u001b[43m(\u001b[49m\u001b[43mv\u001b[49m\u001b[43m)\u001b[49m\n\u001b[1;32m    829\u001b[0m         \u001b[38;5;28;01mif\u001b[39;00m \u001b[38;5;28misinstance\u001b[39m(results[i], ABCSeries):\n\u001b[1;32m    830\u001b[0m             \u001b[38;5;66;03m# If we have a view on v, we need to make a copy because\u001b[39;00m\n\u001b[1;32m    831\u001b[0m             \u001b[38;5;66;03m#  series_generator will swap out the underlying data\u001b[39;00m\n\u001b[1;32m    832\u001b[0m             results[i] \u001b[38;5;241m=\u001b[39m results[i]\u001b[38;5;241m.\u001b[39mcopy(deep\u001b[38;5;241m=\u001b[39m\u001b[38;5;28;01mFalse\u001b[39;00m)\n",
      "Input \u001b[0;32mIn [41]\u001b[0m, in \u001b[0;36mcalculate_value_function\u001b[0;34m(row)\u001b[0m\n\u001b[1;32m     23\u001b[0m \u001b[38;5;28;01mif\u001b[39;00m row[\u001b[38;5;124m'\u001b[39m\u001b[38;5;124mState\u001b[39m\u001b[38;5;124m'\u001b[39m] \u001b[38;5;241m==\u001b[39m \u001b[38;5;241m1\u001b[39m \u001b[38;5;129;01mand\u001b[39;00m row[\u001b[38;5;124m'\u001b[39m\u001b[38;5;124mState\u001b[39m\u001b[38;5;124m'\u001b[39m]\u001b[38;5;241m.\u001b[39mshift(\u001b[38;5;241m1\u001b[39m) \u001b[38;5;241m==\u001b[39m \u001b[38;5;241m0\u001b[39m:\n\u001b[1;32m     24\u001b[0m     \u001b[38;5;28;01mreturn\u001b[39;00m row[\u001b[38;5;124m'\u001b[39m\u001b[38;5;124mV\u001b[39m\u001b[38;5;124m'\u001b[39m] \u001b[38;5;241m+\u001b[39m \u001b[38;5;241m1\u001b[39m\n\u001b[0;32m---> 25\u001b[0m \u001b[38;5;28;01melif\u001b[39;00m row[\u001b[38;5;124m'\u001b[39m\u001b[38;5;124mState\u001b[39m\u001b[38;5;124m'\u001b[39m] \u001b[38;5;241m==\u001b[39m \u001b[38;5;241m-\u001b[39m\u001b[38;5;241m1\u001b[39m \u001b[38;5;129;01mand\u001b[39;00m \u001b[43mrow\u001b[49m\u001b[43m[\u001b[49m\u001b[38;5;124;43m'\u001b[39;49m\u001b[38;5;124;43mState\u001b[39;49m\u001b[38;5;124;43m'\u001b[39;49m\u001b[43m]\u001b[49m\u001b[38;5;241;43m.\u001b[39;49m\u001b[43mshift\u001b[49m(\u001b[38;5;241m1\u001b[39m) \u001b[38;5;241m==\u001b[39m \u001b[38;5;241m0\u001b[39m:\n\u001b[1;32m     26\u001b[0m     \u001b[38;5;28;01mreturn\u001b[39;00m row[\u001b[38;5;124m'\u001b[39m\u001b[38;5;124mV\u001b[39m\u001b[38;5;124m'\u001b[39m] \u001b[38;5;241m-\u001b[39m \u001b[38;5;241m1\u001b[39m\n\u001b[1;32m     27\u001b[0m \u001b[38;5;28;01melse\u001b[39;00m:\n",
      "\u001b[0;31mAttributeError\u001b[0m: 'int' object has no attribute 'shift'"
     ]
    }
   ],
   "source": [
    "import pandas as pd\n",
    "\n",
    "# Step 1: Pull daily close prices for AAPL for the year 2023\n",
    "# Note: Replace 'path_to_data' with the actual path to the data file containing AAPL prices for 2023\n",
    "df = pd.read_csv('apple.csv')\n",
    "\n",
    "# Step 2: Calculate daily returns\n",
    "df['Return'] = df['Close'].pct_change()\n",
    "\n",
    "# Step 3: Classify states based on defined logic\n",
    "def classify_state(return_value):\n",
    "    if return_value >= 0.1:\n",
    "        return 1\n",
    "    elif return_value > -0.1:\n",
    "        return 0\n",
    "    else:\n",
    "        return -1\n",
    "\n",
    "df['State'] = df['Return'].apply(classify_state)\n",
    "\n",
    "# Step 4: Determine value function V(d+1)\n",
    "def calculate_value_function(row):\n",
    "    if row['State'] == 1 and row['State'].shift(1) == 0:\n",
    "        return row['V'] + 1\n",
    "    elif row['State'] == -1 and row['State'].shift(1) == 0:\n",
    "        return row['V'] - 1\n",
    "    else:\n",
    "        return row['V']\n",
    "\n",
    "df['V'] = 0  # Initial portfolio value\n",
    "df['V'] = df.apply(calculate_value_function, axis=1)\n",
    "\n",
    "# Step 5: Calculate transition distribution\n",
    "transition_matrix = df.groupby(['State', 'State.shift(1)']).size().unstack()\n",
    "transition_matrix = transition_matrix.div(transition_matrix.sum(axis=1), axis=0)\n",
    "\n",
    "# Step 6: Implement decision-making process\n",
    "# Identify optimal points to place buy orders based on the calculated V(N)\n",
    "optimal_buy_indices = df[df['V'] == df['V'].max()].index.tolist()\n",
    "max_portfolio_value = df['V'].max()\n",
    "\n",
    "# Output results\n",
    "print(\"Max Portfolio Value:\", max_portfolio_value)\n",
    "print(\"Optimal Buy Indices:\", optimal_buy_indices)\n",
    "\n",
    "# Save the transition matrix and results to a file or publish them to a GitHub repository\n",
    "transition_matrix.to_csv('transition_matrix.csv')\n"
   ]
  },
  {
   "cell_type": "code",
   "execution_count": null,
   "id": "958c0202-9f4b-4ed1-8687-085de15636f4",
   "metadata": {},
   "outputs": [],
   "source": []
  }
 ],
 "metadata": {
  "kernelspec": {
   "display_name": "Python 3.9",
   "language": "python",
   "name": "python3"
  },
  "language_info": {
   "codemirror_mode": {
    "name": "ipython",
    "version": 3
   },
   "file_extension": ".py",
   "mimetype": "text/x-python",
   "name": "python",
   "nbconvert_exporter": "python",
   "pygments_lexer": "ipython3",
   "version": "3.9.12"
  }
 },
 "nbformat": 4,
 "nbformat_minor": 5
}
