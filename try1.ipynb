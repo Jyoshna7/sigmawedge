{
 "cells": [
  {
   "cell_type": "code",
   "execution_count": 1,
   "id": "ef2d596d-d42a-4469-b863-d17f064d9230",
   "metadata": {},
   "outputs": [
    {
     "data": {
      "text/plain": [
       "{'licensekey': 'cadb........0aaa', 'software_license': {}}"
      ]
     },
     "execution_count": 1,
     "metadata": {},
     "output_type": "execute_result"
    }
   ],
   "source": [
    "from quantrocket.license import set_license\n",
    "set_license(\"cadba980-de2e-11ee-93e1-4b30e8840aaa\")"
   ]
  },
  {
   "cell_type": "code",
   "execution_count": null,
   "id": "858360a5-ad6a-48a3-bc94-7f3c89a1a901",
   "metadata": {},
   "outputs": [],
   "source": []
  }
 ],
 "metadata": {
  "kernelspec": {
   "display_name": "Python 3.9",
   "language": "python",
   "name": "python3"
  },
  "language_info": {
   "codemirror_mode": {
    "name": "ipython",
    "version": 3
   },
   "file_extension": ".py",
   "mimetype": "text/x-python",
   "name": "python",
   "nbconvert_exporter": "python",
   "pygments_lexer": "ipython3",
   "version": "3.9.12"
  }
 },
 "nbformat": 4,
 "nbformat_minor": 5
}
