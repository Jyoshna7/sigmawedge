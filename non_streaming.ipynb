{
 "cells": [
  {
   "cell_type": "code",
   "execution_count": 17,
   "id": "ef2d596d-d42a-4469-b863-d17f064d9230",
   "metadata": {},
   "outputs": [
    {
     "data": {
      "text/plain": [
       "{'licensekey': 'cadb........0aaa', 'software_license': {}}"
      ]
     },
     "execution_count": 17,
     "metadata": {},
     "output_type": "execute_result"
    }
   ],
   "source": [
    "from quantrocket.license import set_license\n",
    "set_license(\"cadba980-de2e-11ee-93e1-4b30e8840aaa\")"
   ]
  },
  {
   "cell_type": "code",
   "execution_count": null,
   "id": "858360a5-ad6a-48a3-bc94-7f3c89a1a901",
   "metadata": {
    "tags": []
   },
   "outputs": [],
   "source": [
    "from quantrocket.history import create_usstock_db\n",
    "create_usstock_db(\"usstock-free-1d\", free=True)\n",
    "{'status': 'successfully created quantrocket.v2.history.usstock-free-1d.sqlite'}"
   ]
  },
  {
   "cell_type": "code",
   "execution_count": 20,
   "id": "d262ec21-9003-40e1-aba0-313089d7f2ad",
   "metadata": {
    "tags": []
   },
   "outputs": [
    {
     "data": {
      "text/plain": [
       "{'status': 'the historical data will be collected asynchronously'}"
      ]
     },
     "execution_count": 20,
     "metadata": {},
     "output_type": "execute_result"
    }
   ],
   "source": [
    "from quantrocket.history import collect_history\n",
    "collect_history(\"usstock-free-1d\")\n",
    "{'status': 'the historical data will be collected asynchronously'}"
   ]
  },
  {
   "cell_type": "code",
   "execution_count": 21,
   "id": "a22d8f99-bdc6-498b-8ef7-448c23b55851",
   "metadata": {
    "tags": []
   },
   "outputs": [],
   "source": [
    "from quantrocket.history import download_history_file\n",
    "download_history_file(\"usstock-free-1d\",\n",
    "                          start_date=\"2023-01-01\", #YYYY-MM-DD\n",
    "                          end_date=\"2023-12-31\",\n",
    "                          fields=[\"Close\"],\n",
    "                          sids=[\"FIBBG000B9XRY4\"], ##AAPL's sid\n",
    "                          filepath_or_buffer=\"apple.csv\"\n",
    "                     )"
   ]
  },
  {
   "cell_type": "code",
   "execution_count": 22,
   "id": "29bff918-13d4-4082-83b5-1598680b194b",
   "metadata": {
    "tags": []
   },
   "outputs": [
    {
     "name": "stdout",
     "output_type": "stream",
     "text": [
      "Previous Row: {'Sid': 'FIBBG000B9XRY4', 'Date': '2023-11-16', 'Close': '189.4682'}\n",
      "Previous Row: {'Sid': 'FIBBG000B9XRY4', 'Date': '2023-11-17', 'Close': '189.4483'}\n",
      "Current Row: {'Sid': 'FIBBG000B9XRY4', 'Date': '2023-11-20', 'Close': '191.206'}\n"
     ]
    }
   ],
   "source": [
    "#Draft\n",
    "import csv\n",
    "\n",
    "with open('apple.csv', newline='') as csvfile:\n",
    "    csvreader = csv.DictReader(csvfile)\n",
    "    \n",
    "    prev_row = None\n",
    "    prev_row1 = None\n",
    "   \n",
    "    for row in csvreader:\n",
    "        if row['Date'] == '2023-11-20':\n",
    "            if prev_row is not None and prev_row1 is not None:\n",
    "                print(\"Previous Row:\", prev_row1)\n",
    "                print(\"Previous Row:\", prev_row)\n",
    "                print(\"Current Row:\", row)\n",
    "        prev_row1 = prev_row\n",
    "        prev_row = row\n"
   ]
  },
  {
   "cell_type": "code",
   "execution_count": 25,
   "id": "42d52249-bc8b-4afd-abe5-43be633b9312",
   "metadata": {
    "tags": []
   },
   "outputs": [],
   "source": [
    "import csv\n",
    "\n",
    "with open('apple.csv', newline='') as csvfile:\n",
    "    csvreader = csv.DictReader(csvfile)\n",
    "    close = []\n",
    "    for row in csvreader:\n",
    "        close.append(float(row['Close']))\n",
    "   # print(close)\n"
   ]
  },
  {
   "cell_type": "code",
   "execution_count": 26,
   "id": "d343ecab-5846-4207-a5e5-432bd75801ae",
   "metadata": {
    "tags": []
   },
   "outputs": [
    {
     "name": "stdout",
     "output_type": "stream",
     "text": [
      "249\n"
     ]
    }
   ],
   "source": [
    "r = []\n",
    "for i in range(1,len(close)):\n",
    "    R = (close[i]-close[i-1])/close[i-1]\n",
    "    r.append(R)\n",
    "print(len(r))  "
   ]
  },
  {
   "cell_type": "code",
   "execution_count": 27,
   "id": "2e4fd573-dea7-4ed2-82c3-27e992d995f6",
   "metadata": {
    "tags": []
   },
   "outputs": [
    {
     "name": "stdout",
     "output_type": "stream",
     "text": [
      "[1, -1, 1, 0, 0, 1, 0, 1, 0, 0, 0, 1, 1, 1, 0, 1, 1, -1, 0, 0, 1, 1, -1, 1, -1, 0, 0, 1, 0, 1, -1, 0, -1, 0, 0, -1, 0, 0, -1, 0, 1, 1, -1, 0, -1, -1, 1, 1, 0, 1, 0, 1, 1, 0, 0, 0, -1, 0, 1, 0, 1, 0, 0, -1, 0, -1, 0, 0, 1, 0, 0, 0, 0, 0, 0, 0, 0, 0, 1, 0, 0, 0, 0, 0, 1, 0, 0, 1, 0, 0, 0, 0, 0, 1, 0, 0, -1, 0, 0, 1, 1, 0, 1, 0, 0, 0, 0, 1, 0, 1, 0, 0, 1, 0, 0, 0, 1, 0, 0, 1, 0, 0, 1, 0, 0, 0, 0, -1, 0, 0, 0, 0, 1, 0, 0, -1, 0, 0, 0, 0, 0, 1, 0, 0, -1, 0, -1, -1, 0, 0, 0, 0, 0, -1, 0, -1, 0, 0, 0, 1, -1, 1, 0, 1, 1, 0, 0, 0, -1, -1, 0, 0, -1, -1, 0, 0, 1, 0, -1, 0, 0, 0, -1, 0, 0, 0, 1, 0, 0, 0, 1, 0, 0, 0, 0, -1, 0, 0, 0, 0, -1, 0, 0, -1, -1, 0, 1, 0, 1, 1, 0, 1, 1, 0, 0, 1, 0, 1, 0, 0, 0, 0, 0, 0, 0, 0, 0, 0, 0, 0, 0, 1, 0, 1, 0, -1, 0, 1, 0, 0, 0, 0, -1, 0, 0, 0, 0, 0, 0]\n",
      "249\n"
     ]
    }
   ],
   "source": [
    "s = []\n",
    "for i in r:\n",
    "    if(i>=0.01):\n",
    "        s.append(1)\n",
    "    elif(i>-0.01 and i<0.01):\n",
    "        s.append(0)\n",
    "    else:\n",
    "        s.append(-1)\n",
    "print(s)\n",
    "print(len(s))"
   ]
  },
  {
   "cell_type": "code",
   "execution_count": 28,
   "id": "67cf92c9-a370-4ad4-aaac-d3703651f425",
   "metadata": {
    "tags": []
   },
   "outputs": [
    {
     "name": "stdout",
     "output_type": "stream",
     "text": [
      "[0, 0, 0, 0, 0, 1, 1, 2, 2, 2, 2, 3, 3, 3, 3, 4, 4, 4, 4, 4, 5, 5, 5, 5, 5, 5, 5, 6, 6, 7, 7, 7, 6, 6, 6, 5, 5, 5, 4, 4, 5, 5, 5, 5, 4, 4, 4, 4, 4, 5, 5, 6, 6, 6, 6, 6, 5, 5, 6, 6, 7, 7, 7, 6, 6, 5, 5, 5, 6, 6, 6, 6, 6, 6, 6, 6, 6, 6, 7, 7, 7, 7, 7, 7, 8, 8, 8, 9, 9, 9, 9, 9, 9, 10, 10, 10, 9, 9, 9, 10, 10, 10, 11, 11, 11, 11, 11, 12, 12, 13, 13, 13, 14, 14, 14, 14, 15, 15, 15, 16, 16, 16, 17, 17, 17, 17, 17, 16, 16, 16, 16, 16, 17, 17, 17, 16, 16, 16, 16, 16, 16, 17, 17, 17, 16, 16, 15, 15, 15, 15, 15, 15, 15, 14, 14, 13, 13, 13, 13, 14, 14, 14, 14, 15, 15, 15, 15, 15, 14, 14, 14, 14, 13, 13, 13, 13, 14, 14, 13, 13, 13, 13, 12, 12, 12, 12, 13, 13, 13, 13, 14, 14, 14, 14, 14, 13, 13, 13, 13, 13, 12, 12, 12, 11, 11, 11, 12, 12, 13, 13, 13, 14, 14, 14, 14, 15, 15, 16, 16, 16, 16, 16, 16, 16, 16, 16, 16, 16, 16, 16, 16, 17, 17, 18, 18, 17, 17, 18, 18, 18, 18, 18, 17, 17, 17, 17, 17, 17, 17]\n",
      "Portfolio Value: 17\n"
     ]
    }
   ],
   "source": [
    "v = [0]\n",
    "for i in range(1,len(s)):\n",
    "    if(s[i-1] == 0 and s[i] == 1):\n",
    "        v.append(v[i-1]+1)\n",
    "    elif(s[i-1] == 0 and s[i] == -1 ):\n",
    "         v.append(v[i-1]-1)\n",
    "    else:\n",
    "         v.append(v[i-1])\n",
    "print(v)\n",
    "print(\"Portfolio Value:\",v[-1])"
   ]
  },
  {
   "cell_type": "code",
   "execution_count": 29,
   "id": "0c903a81-ada0-410c-ad84-001c413f7e50",
   "metadata": {
    "tags": []
   },
   "outputs": [
    {
     "name": "stdout",
     "output_type": "stream",
     "text": [
      "Transition probabilities from state 1:\n",
      "  State 1 to State -1: 0.12\n",
      "  State 1 to State 0: 0.68\n",
      "  State 1 to State 1: 0.20\n",
      "Transition probabilities from state -1:\n",
      "  State -1 to State 1: 0.11\n",
      "  State -1 to State 0: 0.74\n",
      "  State -1 to State -1: 0.14\n",
      "Transition probabilities from state 0:\n",
      "  State 0 to State 0: 0.60\n",
      "  State 0 to State 1: 0.25\n",
      "  State 0 to State -1: 0.15\n"
     ]
    }
   ],
   "source": [
    "from collections import defaultdict\n",
    "\n",
    "# Initialize a dictionary to store transition counts\n",
    "transition_counts = defaultdict(lambda: defaultdict(int))\n",
    "\n",
    "# Iterate through the sequence of states and record transitions\n",
    "for i in range(len(s) - 1):\n",
    "    current_state = s[i]\n",
    "    next_state = s[i + 1]\n",
    "    transition_counts[current_state][next_state] += 1\n",
    "\n",
    "# Calculate transition probabilities from counts\n",
    "transition_probabilities = defaultdict(lambda: defaultdict(float))\n",
    "for current_state, next_states in transition_counts.items():\n",
    "    total_transitions = sum(next_states.values())\n",
    "    for next_state, count in next_states.items():\n",
    "        transition_probabilities[current_state][next_state] = count / total_transitions\n",
    "\n",
    "# Print transition probabilities\n",
    "for current_state, next_states in transition_probabilities.items():\n",
    "    print(f\"Transition probabilities from state {current_state}:\")\n",
    "    for next_state, probability in next_states.items():\n",
    "        print(f\"  State {current_state} to State {next_state}: {probability:.2f}\")\n"
   ]
  },
  {
   "cell_type": "code",
   "execution_count": 24,
   "id": "f4bf1761-5114-4697-94e2-1251ca2e1be9",
   "metadata": {},
   "outputs": [
    {
     "data": {
      "image/png": "[encoded data removed]",
      "text/plain": [
       "<Figure size 1152x432 with 1 Axes>"
      ]
     },
     "metadata": {},
     "output_type": "display_data"
    }
   ],
   "source": [
    "import  matplotlib.pyplot as plt\n",
    "import pandas as pd\n",
    "import  csv\n",
    "stock_prices = pd.read_csv('apple.csv')\n",
    "\n",
    "# Convert the date to datetime\n",
    "stock_prices['Date'] = pd.to_datetime(stock_prices['Date'], format = '%Y-%m-%d')\n",
    "# Assign this as index\n",
    "stock_prices.set_index(['Date'], inplace=True)\n",
    "# plot the price\n",
    "stock_prices['Close'].plot()\n",
    "plt.title('Daily Time Series for the stock (from saved CSV file)')\n",
    "plt.xlabel('day')\n",
    "plt.ylabel('price')\n",
    "plt.show()"
   ]
  },
  {
   "cell_type": "code",
   "execution_count": null,
   "id": "49a0c35c-f1d3-47e9-ac8b-b59644cf57fd",
   "metadata": {},
   "outputs": [],
   "source": []
  }
 ],
 "metadata": {
  "kernelspec": {
   "display_name": "Python 3.9",
   "language": "python",
   "name": "python3"
  },
  "language_info": {
   "codemirror_mode": {
    "name": "ipython",
    "version": 3
   },
   "file_extension": ".py",
   "mimetype": "text/x-python",
   "name": "python",
   "nbconvert_exporter": "python",
   "pygments_lexer": "ipython3",
   "version": "3.9.12"
  }
 },
 "nbformat": 4,
 "nbformat_minor": 5
}
